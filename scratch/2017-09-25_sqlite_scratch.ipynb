{
  "cells": [
    {
      "cell_type": "code",
      "source": [
        "import sqlite3"
      ],
      "outputs": [],
      "execution_count": 37,
      "metadata": {
        "collapsed": false,
        "outputHidden": false,
        "inputHidden": false
      }
    },
    {
      "cell_type": "code",
      "source": [
        "db_path = \"/Users/jjpr/dev/mkgu/mkgu/lookup.db\""
      ],
      "outputs": [],
      "execution_count": 38,
      "metadata": {
        "collapsed": false,
        "outputHidden": false,
        "inputHidden": false
      }
    },
    {
      "cell_type": "code",
      "source": [
        "conn = sqlite3.connect(db_path)"
      ],
      "outputs": [],
      "execution_count": 39,
      "metadata": {
        "collapsed": false,
        "outputHidden": false,
        "inputHidden": false
      }
    },
    {
      "cell_type": "code",
      "source": [
        "conn"
      ],
      "outputs": [
        {
          "output_type": "execute_result",
          "execution_count": 40,
          "data": {
            "text/plain": [
              "<sqlite3.Connection at 0x104be0f10>"
            ]
          },
          "metadata": {}
        }
      ],
      "execution_count": 40,
      "metadata": {
        "collapsed": false,
        "outputHidden": false,
        "inputHidden": false
      }
    },
    {
      "cell_type": "code",
      "source": [
        "cursor = conn.cursor()"
      ],
      "outputs": [],
      "execution_count": 41,
      "metadata": {
        "collapsed": false,
        "outputHidden": false,
        "inputHidden": false
      }
    },
    {
      "cell_type": "code",
      "source": [
        "cursor"
      ],
      "outputs": [
        {
          "output_type": "execute_result",
          "execution_count": 42,
          "data": {
            "text/plain": [
              "<sqlite3.Cursor at 0x104adee30>"
            ]
          },
          "metadata": {}
        }
      ],
      "execution_count": 42,
      "metadata": {
        "collapsed": false,
        "outputHidden": false,
        "inputHidden": false
      }
    },
    {
      "cell_type": "code",
      "source": [
        "sql_drop_store = \"\"\"DROP TABLE if exists store;\"\"\"\n",
        "sql_create_store = \"\"\"CREATE TABLE store \n",
        "    (id integer primary key, type text, location text);\"\"\""
      ],
      "outputs": [],
      "execution_count": 50,
      "metadata": {
        "collapsed": false,
        "outputHidden": false,
        "inputHidden": false
      }
    },
    {
      "cell_type": "code",
      "source": [
        "sql_drop_assembly = \"\"\"DROP TABLE if exists assembly;\"\"\"\n",
        "sql_create_assembly = \"\"\"CREATE TABLE assembly \n",
        "    (id integer primary key, name text unique, class text);\"\"\""
      ],
      "outputs": [],
      "execution_count": 51,
      "metadata": {
        "collapsed": false,
        "outputHidden": false,
        "inputHidden": false
      }
    },
    {
      "cell_type": "code",
      "source": [
        "sql_drop_assembly_store = \"\"\"DROP TABLE if exists assembly_store;\"\"\"\n",
        "sql_create_assembly_store = \"\"\"CREATE TABLE assembly_store \n",
        "    (id integer primary key, role text, \n",
        "    store_id integer, assembly_id integer);\"\"\""
      ],
      "outputs": [],
      "execution_count": 52,
      "metadata": {
        "collapsed": false,
        "outputHidden": false,
        "inputHidden": false
      }
    },
    {
      "cell_type": "code",
      "source": [
        "cursor.execute(sql_drop_store)\n",
        "cursor.execute(sql_create_store)"
      ],
      "outputs": [
        {
          "output_type": "execute_result",
          "execution_count": 59,
          "data": {
            "text/plain": [
              "<sqlite3.Cursor at 0x104adee30>"
            ]
          },
          "metadata": {}
        }
      ],
      "execution_count": 59,
      "metadata": {
        "collapsed": false,
        "outputHidden": false,
        "inputHidden": false
      }
    },
    {
      "cell_type": "code",
      "source": [
        "cursor.execute(sql_drop_assembly)\n",
        "cursor.execute(sql_create_assembly)"
      ],
      "outputs": [
        {
          "output_type": "execute_result",
          "execution_count": 60,
          "data": {
            "text/plain": [
              "<sqlite3.Cursor at 0x104adee30>"
            ]
          },
          "metadata": {}
        }
      ],
      "execution_count": 60,
      "metadata": {
        "collapsed": false,
        "outputHidden": false,
        "inputHidden": false
      }
    },
    {
      "cell_type": "code",
      "source": [
        "cursor.execute(sql_drop_assembly_store)\n",
        "cursor.execute(sql_create_assembly_store)"
      ],
      "outputs": [
        {
          "output_type": "execute_result",
          "execution_count": 61,
          "data": {
            "text/plain": [
              "<sqlite3.Cursor at 0x104adee30>"
            ]
          },
          "metadata": {}
        }
      ],
      "execution_count": 61,
      "metadata": {
        "collapsed": false,
        "outputHidden": false,
        "inputHidden": false
      }
    },
    {
      "cell_type": "code",
      "source": [
        "sql_insert_store = \"\"\"INSERT INTO store \n",
        "(type, location) \n",
        "VALUES \n",
        "(\"S3\", \n",
        "\"https://mkgu-dicarlolab-hvm.s3.amazonaws.com/hvm_neuronal_features.nc\")\n",
        "\"\"\""
      ],
      "outputs": [],
      "execution_count": 62,
      "metadata": {
        "collapsed": false,
        "outputHidden": false,
        "inputHidden": false
      }
    },
    {
      "cell_type": "code",
      "source": [
        "cursor.execute(sql_insert_store)\n",
        "store_id = cursor.lastrowid\n",
        "store_id"
      ],
      "outputs": [
        {
          "output_type": "execute_result",
          "execution_count": 63,
          "data": {
            "text/plain": [
              "1"
            ]
          },
          "metadata": {}
        }
      ],
      "execution_count": 63,
      "metadata": {
        "collapsed": false,
        "outputHidden": false,
        "inputHidden": false
      }
    },
    {
      "cell_type": "code",
      "source": [
        "sql_insert_assy = \"\"\"INSERT INTO assembly \n",
        "(name, class) \n",
        "VALUES \n",
        "(\"HvM\", \"NeuronRecordingAssembly\")\n",
        "\"\"\""
      ],
      "outputs": [],
      "execution_count": 64,
      "metadata": {
        "collapsed": false,
        "outputHidden": false,
        "inputHidden": false
      }
    },
    {
      "cell_type": "code",
      "source": [
        "cursor.execute(sql_insert_assy)\n",
        "assy_id = cursor.lastrowid\n",
        "assy_id"
      ],
      "outputs": [
        {
          "output_type": "execute_result",
          "execution_count": 65,
          "data": {
            "text/plain": [
              "1"
            ]
          },
          "metadata": {}
        }
      ],
      "execution_count": 65,
      "metadata": {
        "collapsed": false,
        "outputHidden": false,
        "inputHidden": false
      }
    },
    {
      "cell_type": "code",
      "source": [
        "sql_insert_assy_store = \"\"\"INSERT INTO assembly_store \n",
        "(role, store_id, assembly_id) \n",
        "VALUES \n",
        "(\"HvM\", ?, ?)\n",
        "\"\"\""
      ],
      "outputs": [],
      "execution_count": 66,
      "metadata": {
        "collapsed": false,
        "outputHidden": false,
        "inputHidden": false
      }
    },
    {
      "cell_type": "code",
      "source": [
        "cursor.execute(sql_insert_assy_store, (store_id, assy_id))\n",
        "assy_store_id = cursor.lastrowid\n",
        "assy_store_id"
      ],
      "outputs": [
        {
          "output_type": "execute_result",
          "execution_count": 67,
          "data": {
            "text/plain": [
              "1"
            ]
          },
          "metadata": {}
        }
      ],
      "execution_count": 67,
      "metadata": {
        "collapsed": false,
        "outputHidden": false,
        "inputHidden": false
      }
    },
    {
      "cell_type": "code",
      "source": [
        "conn.commit()"
      ],
      "outputs": [],
      "execution_count": 68,
      "metadata": {
        "collapsed": false,
        "outputHidden": false,
        "inputHidden": false
      }
    },
    {
      "cell_type": "code",
      "source": [
        "conn.close()"
      ],
      "outputs": [],
      "execution_count": 69,
      "metadata": {
        "collapsed": false,
        "outputHidden": false,
        "inputHidden": false
      }
    },
    {
      "cell_type": "code",
      "source": [
        "conn"
      ],
      "outputs": [
        {
          "output_type": "execute_result",
          "execution_count": 70,
          "data": {
            "text/plain": [
              "<sqlite3.Connection at 0x104be0f10>"
            ]
          },
          "metadata": {}
        }
      ],
      "execution_count": 70,
      "metadata": {
        "collapsed": false,
        "outputHidden": false,
        "inputHidden": false
      }
    },
    {
      "cell_type": "code",
      "source": [
        "conn = sqlite3.connect(db_path)\n",
        "conn.row_factory = sqlite3.Row\n",
        "cursor = conn.cursor()"
      ],
      "outputs": [],
      "execution_count": 71,
      "metadata": {
        "collapsed": false,
        "outputHidden": false,
        "inputHidden": false
      }
    },
    {
      "cell_type": "code",
      "source": [
        "sql_lookup_assy = \"\"\"SELECT \n",
        "    a.id as a_id, a.name, a.class \n",
        "    FROM\n",
        "    assembly a\n",
        "    WHERE\n",
        "    a.name = ?\n",
        "    \"\"\""
      ],
      "outputs": [],
      "execution_count": 72,
      "metadata": {
        "collapsed": false,
        "outputHidden": false,
        "inputHidden": false
      }
    },
    {
      "cell_type": "code",
      "source": [
        "sql_get_assy = \"\"\"SELECT \n",
        "    a.id as a_id, a.name, a.class, a_s.id as a_s_id, a_s.role, \n",
        "    s.id as s_id, s.type, s.location \n",
        "    FROM\n",
        "    assembly a\n",
        "    JOIN assembly_store a_s ON a.id = a_s.assembly_id\n",
        "    JOIN store s ON a_s.store_id = s.id\n",
        "    WHERE\n",
        "    a.name = ?\n",
        "    \"\"\""
      ],
      "outputs": [],
      "execution_count": 73,
      "metadata": {
        "collapsed": false,
        "outputHidden": false,
        "inputHidden": false
      }
    },
    {
      "cell_type": "code",
      "source": [
        "cursor.execute(sql_lookup_assy, (\"HvM\",))\n",
        "assy_result = cursor.fetchone()\n",
        "{k: assy_result[k] for k in assy_result.keys()}"
      ],
      "outputs": [
        {
          "output_type": "execute_result",
          "execution_count": 74,
          "data": {
            "text/plain": [
              "{'a_id': 1, 'class': 'NeuronRecordingAssembly', 'name': 'HvM'}"
            ]
          },
          "metadata": {}
        }
      ],
      "execution_count": 74,
      "metadata": {
        "collapsed": false,
        "outputHidden": false,
        "inputHidden": false
      }
    },
    {
      "cell_type": "code",
      "source": [
        "cursor.execute(sql_get_assy, (\"HvM\",))\n",
        "assy_store_result = cursor.fetchall()\n",
        "{k: r[k] for r in assy_store_result for k in r.keys()}"
      ],
      "outputs": [
        {
          "output_type": "execute_result",
          "execution_count": 75,
          "data": {
            "text/plain": [
              "{'a_id': 1,\n",
              " 'a_s_id': 1,\n",
              " 'class': 'NeuronRecordingAssembly',\n",
              " 'location': 'https://mkgu-dicarlolab-hvm.s3.amazonaws.com/hvm_neuronal_features.nc',\n",
              " 'name': 'HvM',\n",
              " 'role': 'HvM',\n",
              " 's_id': 1,\n",
              " 'type': 'S3'}"
            ]
          },
          "metadata": {}
        }
      ],
      "execution_count": 75,
      "metadata": {
        "collapsed": false,
        "outputHidden": false,
        "inputHidden": false
      }
    },
    {
      "cell_type": "code",
      "source": [
        "class AssemblyRecord(object):\n",
        "    \"\"\"An AssemblyRecord stores information about the canonical location where the data\n",
        "    for a DataAssembly is stored.  \"\"\"\n",
        "    def __init__(self, db_id, name, cls, stores={}):\n",
        "        self.db_id = db_id\n",
        "        self.name = name\n",
        "        self.cls = cls\n",
        "        self.stores = stores\n",
        "\n\n",
        "class AssemblyStoreMap(object):\n",
        "    \"\"\"An AssemblyStoreMap links an AssemblyRecord to a Store.  \"\"\"\n",
        "    def __init__(self, db_id, role, store, assembly_record):\n",
        "        self.db_id = db_id\n",
        "        self.role = role\n",
        "        self.store = store\n",
        "        self.assembly_record = assembly_record\n",
        "\n\n",
        "class Store(object):\n",
        "    \"\"\"A Store stores the location of a DataAssembly data file.  \"\"\"\n",
        "    def __init__(self, db_id, type, location, assemblies=[]):\n",
        "        self.db_id = db_id\n",
        "        self.type = type\n",
        "        self.location = location\n",
        "        self.assemblies = assemblies"
      ],
      "outputs": [],
      "execution_count": 76,
      "metadata": {
        "collapsed": false,
        "outputHidden": false,
        "inputHidden": false
      }
    },
    {
      "cell_type": "code",
      "source": [
        "assy = AssemblyRecord(assy_result[\"a_id\"], assy_result[\"name\"], assy_result[\"class\"])\n",
        "for r in assy_store_result:\n",
        "    s = Store(r[\"s_id\"], r[\"type\"], r[\"location\"], [assy])\n",
        "    role = r[\"role\"]\n",
        "    a_s = AssemblyStoreMap(r[\"a_s_id\"], role, s, assy)\n",
        "    assy.stores[role] = a_s\n",
        "assy"
      ],
      "outputs": [
        {
          "output_type": "execute_result",
          "execution_count": 81,
          "data": {
            "text/plain": [
              "<__main__.AssemblyRecord at 0x104980fd0>"
            ]
          },
          "metadata": {}
        }
      ],
      "execution_count": 81,
      "metadata": {
        "collapsed": false,
        "outputHidden": false,
        "inputHidden": false
      }
    },
    {
      "cell_type": "code",
      "source": [
        "(assy.name, assy.cls)"
      ],
      "outputs": [
        {
          "output_type": "execute_result",
          "execution_count": 82,
          "data": {
            "text/plain": [
              "('HvM', 'NeuronRecordingAssembly')"
            ]
          },
          "metadata": {}
        }
      ],
      "execution_count": 82,
      "metadata": {
        "collapsed": false,
        "outputHidden": false,
        "inputHidden": false
      }
    },
    {
      "cell_type": "code",
      "source": [
        "[(s.role, s.store.type, s.store.location) for s in assy.stores.values()]"
      ],
      "outputs": [
        {
          "output_type": "execute_result",
          "execution_count": 83,
          "data": {
            "text/plain": [
              "[('HvM',\n",
              "  'S3',\n",
              "  'https://mkgu-dicarlolab-hvm.s3.amazonaws.com/hvm_neuronal_features.nc')]"
            ]
          },
          "metadata": {}
        }
      ],
      "execution_count": 83,
      "metadata": {
        "collapsed": false,
        "outputHidden": false,
        "inputHidden": false
      }
    },
    {
      "cell_type": "code",
      "source": [],
      "outputs": [],
      "execution_count": null,
      "metadata": {
        "collapsed": false,
        "outputHidden": false,
        "inputHidden": false
      }
    }
  ],
  "metadata": {
    "kernelspec": {
      "name": "mkgu",
      "language": "python",
      "display_name": "mkgu"
    },
    "kernel_info": {
      "name": "mkgu"
    },
    "language_info": {
      "name": "python",
      "version": "3.6.2",
      "mimetype": "text/x-python",
      "codemirror_mode": {
        "name": "ipython",
        "version": 3
      },
      "pygments_lexer": "ipython3",
      "nbconvert_exporter": "python",
      "file_extension": ".py"
    },
    "nteract": {
      "version": "0.2.0"
    }
  },
  "nbformat": 4,
  "nbformat_minor": 4
}